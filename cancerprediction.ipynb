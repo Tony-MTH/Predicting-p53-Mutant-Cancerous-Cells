{
 "cells": [
  {
   "cell_type": "markdown",
   "metadata": {},
   "source": [
    "# <center>Predicting p53 Mutants\n",
    "<center>\n",
    "    <b>Nwachukwu Anthony</b><br>\n",
    "    <b>Otomiewo Tega</b><br>\n",
    "    <b>Aning Samuel</b> \n",
    "</center> "
   ]
  },
  {
   "cell_type": "markdown",
   "metadata": {},
   "source": [
    "## 1. Description of data set"
   ]
  },
  {
   "cell_type": "markdown",
   "metadata": {},
   "source": [
    "**DataSet Name**: p53 Mutants\n",
    "\n",
    "**Goal:**\n",
    "The goal is to model mutant p53 transcriptional activity (active vs inactive) based on data extracted from biophysical simulations.\n",
    "\n",
    "**Dataset Source:**\n",
    "Richard H. Lathrop, UC Irvine, http://www.ics.uci.edu/~rickl\n",
    "\n",
    "**Link to Data Set**\n",
    "https://www.kaggle.com/anthonyemeka12/k8-mutant-2010\n",
    "\n",
    "**Data Type:**\n",
    "Multivariate\n",
    "\n",
    "**Task:**\n",
    "Classification\n",
    "\n",
    "**Attribute Type:**\n",
    "Real\n",
    "\n",
    "**Area:**\n",
    "Life Sciences\n",
    "\n",
    "**Format Type:**\n",
    "Matrix\n",
    "\n",
    "**Missing Values:**\n",
    "Yes\n",
    "\n",
    "**Intances:**\n",
    "16772\n",
    "\n",
    "**Attributes:**\n",
    "5409\n",
    "\n",
    "**Relevant Information:**\n",
    "Biophysical models of mutant p53 proteins yield features which can be used to predict p53 transcriptional activity.  All class labels are determined via in vivo assays.\n",
    "\n",
    "**Attribute Information:**\n",
    "There are a total of 5409 attributes per instance. Attributes 1-4826 represent 2D electrostatic and surface based features. Attributes 4827-5408 represent 3D distance based features. Attribute 5409 is the class attribute, which is either active or inactive. The class labels are to be interpreted as follows: 'active' represents transcriptonally competent, active p53 whereas the 'inactive' label \n",
    "represents cancerous, inactive p53.  Class labels are determined experimentally."
   ]
  },
  {
   "cell_type": "markdown",
   "metadata": {},
   "source": [
    "## 2. Import required Libraries"
   ]
  },
  {
   "cell_type": "code",
   "execution_count": 1,
   "metadata": {},
   "outputs": [],
   "source": [
    "import os\n",
    "import numpy as np # linear algebra\n",
    "import pandas as pd # data processing, CSV file I/O (e.g. pd.read_csv)\n",
    "import more_itertools as mit\n",
    "import matplotlib.pyplot as plt\n",
    "import seaborn as sns\n",
    "from sklearn import preprocessing as pre\n",
    "from sklearn.preprocessing import StandardScaler as ssc\n",
    "from sklearn.decomposition import PCA\n",
    "from sklearn.preprocessing import LabelEncoder\n",
    "\n",
    "\n",
    "from sklearn.metrics import classification_report\n",
    "from sklearn.metrics import confusion_matrix\n",
    "from sklearn.metrics import accuracy_score\n",
    "from sklearn.model_selection import train_test_split\n",
    "from sklearn.model_selection import cross_val_score\n",
    "from sklearn.model_selection import KFold\n",
    "from sklearn.tree import DecisionTreeClassifier\n",
    "from sklearn.neighbors import KNeighborsClassifier\n",
    "from sklearn.naive_bayes import GaussianNB\n",
    "from sklearn.pipeline import Pipeline\n",
    "from sklearn.preprocessing import StandardScaler\n",
    "from sklearn.model_selection import GridSearchCV\n",
    "from sklearn.svm import SVC\n",
    "import time"
   ]
  },
  {
   "cell_type": "markdown",
   "metadata": {},
   "source": [
    "## 3. Data Exploration"
   ]
  },
  {
   "cell_type": "markdown",
   "metadata": {},
   "source": [
    "### 3.1 Load the data"
   ]
  },
  {
   "cell_type": "code",
   "execution_count": 2,
   "metadata": {},
   "outputs": [
    {
     "name": "stdout",
     "output_type": "stream",
     "text": [
      "['K8.csv']\n"
     ]
    }
   ],
   "source": [
    "#Load the data which was changed from .data to .csv\n",
    "print(os.listdir(\"../input\"))\n",
    "datr = pd.read_csv(\"../input/K8.csv\",low_memory=False)"
   ]
  },
  {
   "cell_type": "markdown",
   "metadata": {},
   "source": [
    "### 3.2 Print the data summary\n",
    "We discovered the presence of NaN in all the rows from the data description"
   ]
  },
  {
   "cell_type": "code",
   "execution_count": 3,
   "metadata": {},
   "outputs": [
    {
     "data": {
      "text/html": [
       "<div>\n",
       "<style scoped>\n",
       "    .dataframe tbody tr th:only-of-type {\n",
       "        vertical-align: middle;\n",
       "    }\n",
       "\n",
       "    .dataframe tbody tr th {\n",
       "        vertical-align: top;\n",
       "    }\n",
       "\n",
       "    .dataframe thead th {\n",
       "        text-align: right;\n",
       "    }\n",
       "</style>\n",
       "<table border=\"1\" class=\"dataframe\">\n",
       "  <thead>\n",
       "    <tr style=\"text-align: right;\">\n",
       "      <th></th>\n",
       "      <th>Unnamed: 5409</th>\n",
       "    </tr>\n",
       "  </thead>\n",
       "  <tbody>\n",
       "    <tr>\n",
       "      <th>count</th>\n",
       "      <td>0.0</td>\n",
       "    </tr>\n",
       "    <tr>\n",
       "      <th>mean</th>\n",
       "      <td>NaN</td>\n",
       "    </tr>\n",
       "    <tr>\n",
       "      <th>std</th>\n",
       "      <td>NaN</td>\n",
       "    </tr>\n",
       "    <tr>\n",
       "      <th>min</th>\n",
       "      <td>NaN</td>\n",
       "    </tr>\n",
       "    <tr>\n",
       "      <th>25%</th>\n",
       "      <td>NaN</td>\n",
       "    </tr>\n",
       "    <tr>\n",
       "      <th>50%</th>\n",
       "      <td>NaN</td>\n",
       "    </tr>\n",
       "    <tr>\n",
       "      <th>75%</th>\n",
       "      <td>NaN</td>\n",
       "    </tr>\n",
       "    <tr>\n",
       "      <th>max</th>\n",
       "      <td>NaN</td>\n",
       "    </tr>\n",
       "  </tbody>\n",
       "</table>\n",
       "</div>"
      ],
      "text/plain": [
       "       Unnamed: 5409\n",
       "count            0.0\n",
       "mean             NaN\n",
       "std              NaN\n",
       "min              NaN\n",
       "25%              NaN\n",
       "50%              NaN\n",
       "75%              NaN\n",
       "max              NaN"
      ]
     },
     "execution_count": 3,
     "metadata": {},
     "output_type": "execute_result"
    }
   ],
   "source": [
    "datr.describe()"
   ]
  },
  {
   "cell_type": "markdown",
   "metadata": {},
   "source": [
    "### 3.3. Check the data head\n",
    "From the data head, we understood the following: \n",
    "* **?** was used to indicate **NaN**\n",
    "* the presence of numbers with double decimal points\n",
    "* the last column is completely without data\n",
    "* the first row of the data is used as column header  \n",
    "\n",
    "We will try to fix these in the data cleaning section"
   ]
  },
  {
   "cell_type": "code",
   "execution_count": 4,
   "metadata": {},
   "outputs": [
    {
     "data": {
      "text/html": [
       "<div>\n",
       "<style scoped>\n",
       "    .dataframe tbody tr th:only-of-type {\n",
       "        vertical-align: middle;\n",
       "    }\n",
       "\n",
       "    .dataframe tbody tr th {\n",
       "        vertical-align: top;\n",
       "    }\n",
       "\n",
       "    .dataframe thead th {\n",
       "        text-align: right;\n",
       "    }\n",
       "</style>\n",
       "<table border=\"1\" class=\"dataframe\">\n",
       "  <thead>\n",
       "    <tr style=\"text-align: right;\">\n",
       "      <th></th>\n",
       "      <th>-0.161</th>\n",
       "      <th>-0.014</th>\n",
       "      <th>0.002</th>\n",
       "      <th>-0.036</th>\n",
       "      <th>-0.033</th>\n",
       "      <th>-0.093</th>\n",
       "      <th>0.025</th>\n",
       "      <th>0.005</th>\n",
       "      <th>0.000</th>\n",
       "      <th>-0.015</th>\n",
       "      <th>-0.030</th>\n",
       "      <th>-0.050</th>\n",
       "      <th>-0.031</th>\n",
       "      <th>-0.036.1</th>\n",
       "      <th>-0.093.1</th>\n",
       "      <th>-0.008</th>\n",
       "      <th>-0.030.1</th>\n",
       "      <th>-0.023</th>\n",
       "      <th>-0.036.2</th>\n",
       "      <th>-0.042</th>\n",
       "      <th>-0.038</th>\n",
       "      <th>-0.036.3</th>\n",
       "      <th>-0.088</th>\n",
       "      <th>-0.102</th>\n",
       "      <th>-0.021</th>\n",
       "      <th>-0.031.1</th>\n",
       "      <th>-0.053</th>\n",
       "      <th>-0.257</th>\n",
       "      <th>-0.114</th>\n",
       "      <th>-0.075</th>\n",
       "      <th>-0.037</th>\n",
       "      <th>0.080</th>\n",
       "      <th>0.027</th>\n",
       "      <th>-0.161.1</th>\n",
       "      <th>0.056</th>\n",
       "      <th>-0.004</th>\n",
       "      <th>0.002.1</th>\n",
       "      <th>0.003</th>\n",
       "      <th>-0.033.1</th>\n",
       "      <th>-0.056133333333333306</th>\n",
       "      <th>...</th>\n",
       "      <th>-0.051.11</th>\n",
       "      <th>-0.005.34</th>\n",
       "      <th>0.028.20</th>\n",
       "      <th>-0.035.20</th>\n",
       "      <th>-0.004.31</th>\n",
       "      <th>0.011.29</th>\n",
       "      <th>0.026.17</th>\n",
       "      <th>-0.087.6</th>\n",
       "      <th>-0.034.21</th>\n",
       "      <th>-0.048.14</th>\n",
       "      <th>-0.015.31</th>\n",
       "      <th>0.027.20</th>\n",
       "      <th>-0.07</th>\n",
       "      <th>-0.086.6</th>\n",
       "      <th>-0.027.25</th>\n",
       "      <th>-0.013.23</th>\n",
       "      <th>-0.001.39</th>\n",
       "      <th>0.035.19</th>\n",
       "      <th>-0.033.21</th>\n",
       "      <th>0.009.28</th>\n",
       "      <th>0.046.8</th>\n",
       "      <th>0.033.15</th>\n",
       "      <th>0.037.12</th>\n",
       "      <th>0.006.28</th>\n",
       "      <th>0.012.28</th>\n",
       "      <th>-0.032.18</th>\n",
       "      <th>-0.025.35</th>\n",
       "      <th>-0.015.32</th>\n",
       "      <th>-0.015.33</th>\n",
       "      <th>0.006.29</th>\n",
       "      <th>0.013.37</th>\n",
       "      <th>0.021.23</th>\n",
       "      <th>0.02.5</th>\n",
       "      <th>0.016.30</th>\n",
       "      <th>-0.011.30</th>\n",
       "      <th>0.003.35</th>\n",
       "      <th>0.01.6</th>\n",
       "      <th>-0.007.28</th>\n",
       "      <th>inactive</th>\n",
       "      <th>Unnamed: 5409</th>\n",
       "    </tr>\n",
       "  </thead>\n",
       "  <tbody>\n",
       "    <tr>\n",
       "      <th>0</th>\n",
       "      <td>-0.158</td>\n",
       "      <td>-0.002</td>\n",
       "      <td>-0.012</td>\n",
       "      <td>-0.025</td>\n",
       "      <td>-0.012</td>\n",
       "      <td>-0.106</td>\n",
       "      <td>0.013</td>\n",
       "      <td>0.005</td>\n",
       "      <td>0.000</td>\n",
       "      <td>-0.002</td>\n",
       "      <td>-0.007</td>\n",
       "      <td>-0.010</td>\n",
       "      <td>-0.009</td>\n",
       "      <td>-0.017</td>\n",
       "      <td>-0.024</td>\n",
       "      <td>0.002</td>\n",
       "      <td>0.003</td>\n",
       "      <td>-0.011</td>\n",
       "      <td>-0.013</td>\n",
       "      <td>-0.010</td>\n",
       "      <td>-0.019</td>\n",
       "      <td>-0.017</td>\n",
       "      <td>-0.023</td>\n",
       "      <td>-0.044</td>\n",
       "      <td>-0.004</td>\n",
       "      <td>-0.019</td>\n",
       "      <td>-0.033</td>\n",
       "      <td>-0.187</td>\n",
       "      <td>-0.074</td>\n",
       "      <td>-0.057</td>\n",
       "      <td>-0.044</td>\n",
       "      <td>0.044</td>\n",
       "      <td>0.006</td>\n",
       "      <td>-0.146</td>\n",
       "      <td>0.009</td>\n",
       "      <td>-0.017</td>\n",
       "      <td>-0.009</td>\n",
       "      <td>-0.008</td>\n",
       "      <td>-0.029</td>\n",
       "      <td>-0.010433333333333331</td>\n",
       "      <td>...</td>\n",
       "      <td>-0.016</td>\n",
       "      <td>-0.003</td>\n",
       "      <td>0.028</td>\n",
       "      <td>0.021</td>\n",
       "      <td>0.004</td>\n",
       "      <td>-0.001</td>\n",
       "      <td>0.054</td>\n",
       "      <td>-0.035</td>\n",
       "      <td>-0.043</td>\n",
       "      <td>-0.037</td>\n",
       "      <td>-0.011</td>\n",
       "      <td>0.034</td>\n",
       "      <td>-0.078</td>\n",
       "      <td>-0.086</td>\n",
       "      <td>-0.006</td>\n",
       "      <td>-0.002</td>\n",
       "      <td>-0.007</td>\n",
       "      <td>0.011</td>\n",
       "      <td>-0.01</td>\n",
       "      <td>0.002</td>\n",
       "      <td>0.027</td>\n",
       "      <td>0.029</td>\n",
       "      <td>0.021</td>\n",
       "      <td>0.018</td>\n",
       "      <td>0.011</td>\n",
       "      <td>-0.025</td>\n",
       "      <td>-0.016</td>\n",
       "      <td>-0.008</td>\n",
       "      <td>-0.007</td>\n",
       "      <td>0.002</td>\n",
       "      <td>-0.008</td>\n",
       "      <td>0.007</td>\n",
       "      <td>0.015</td>\n",
       "      <td>-0.008</td>\n",
       "      <td>-0.011</td>\n",
       "      <td>-0.004</td>\n",
       "      <td>0.013</td>\n",
       "      <td>0.005</td>\n",
       "      <td>inactive</td>\n",
       "      <td>NaN</td>\n",
       "    </tr>\n",
       "    <tr>\n",
       "      <th>1</th>\n",
       "      <td>?</td>\n",
       "      <td>?</td>\n",
       "      <td>?</td>\n",
       "      <td>?</td>\n",
       "      <td>?</td>\n",
       "      <td>?</td>\n",
       "      <td>?</td>\n",
       "      <td>?</td>\n",
       "      <td>?</td>\n",
       "      <td>?</td>\n",
       "      <td>?</td>\n",
       "      <td>?</td>\n",
       "      <td>?</td>\n",
       "      <td>?</td>\n",
       "      <td>?</td>\n",
       "      <td>?</td>\n",
       "      <td>?</td>\n",
       "      <td>?</td>\n",
       "      <td>?</td>\n",
       "      <td>?</td>\n",
       "      <td>?</td>\n",
       "      <td>?</td>\n",
       "      <td>?</td>\n",
       "      <td>?</td>\n",
       "      <td>?</td>\n",
       "      <td>?</td>\n",
       "      <td>?</td>\n",
       "      <td>?</td>\n",
       "      <td>?</td>\n",
       "      <td>?</td>\n",
       "      <td>?</td>\n",
       "      <td>?</td>\n",
       "      <td>?</td>\n",
       "      <td>?</td>\n",
       "      <td>?</td>\n",
       "      <td>?</td>\n",
       "      <td>?</td>\n",
       "      <td>?</td>\n",
       "      <td>?</td>\n",
       "      <td>?</td>\n",
       "      <td>...</td>\n",
       "      <td>?</td>\n",
       "      <td>?</td>\n",
       "      <td>?</td>\n",
       "      <td>?</td>\n",
       "      <td>?</td>\n",
       "      <td>?</td>\n",
       "      <td>?</td>\n",
       "      <td>?</td>\n",
       "      <td>?</td>\n",
       "      <td>?</td>\n",
       "      <td>?</td>\n",
       "      <td>?</td>\n",
       "      <td>?</td>\n",
       "      <td>?</td>\n",
       "      <td>?</td>\n",
       "      <td>?</td>\n",
       "      <td>?</td>\n",
       "      <td>?</td>\n",
       "      <td>?</td>\n",
       "      <td>?</td>\n",
       "      <td>?</td>\n",
       "      <td>?</td>\n",
       "      <td>?</td>\n",
       "      <td>?</td>\n",
       "      <td>?</td>\n",
       "      <td>?</td>\n",
       "      <td>?</td>\n",
       "      <td>?</td>\n",
       "      <td>?</td>\n",
       "      <td>?</td>\n",
       "      <td>?</td>\n",
       "      <td>?</td>\n",
       "      <td>?</td>\n",
       "      <td>?</td>\n",
       "      <td>?</td>\n",
       "      <td>?</td>\n",
       "      <td>?</td>\n",
       "      <td>?</td>\n",
       "      <td>inactive</td>\n",
       "      <td>NaN</td>\n",
       "    </tr>\n",
       "    <tr>\n",
       "      <th>2</th>\n",
       "      <td>-0.169</td>\n",
       "      <td>-0.025</td>\n",
       "      <td>-0.010</td>\n",
       "      <td>-0.041</td>\n",
       "      <td>-0.045</td>\n",
       "      <td>-0.069</td>\n",
       "      <td>0.038</td>\n",
       "      <td>0.014</td>\n",
       "      <td>0.008</td>\n",
       "      <td>-0.014</td>\n",
       "      <td>-0.032</td>\n",
       "      <td>-0.043</td>\n",
       "      <td>-0.033</td>\n",
       "      <td>-0.046</td>\n",
       "      <td>-0.094</td>\n",
       "      <td>-0.017</td>\n",
       "      <td>-0.042</td>\n",
       "      <td>-0.022</td>\n",
       "      <td>-0.033</td>\n",
       "      <td>-0.039</td>\n",
       "      <td>-0.044</td>\n",
       "      <td>-0.040</td>\n",
       "      <td>-0.091</td>\n",
       "      <td>-0.132</td>\n",
       "      <td>-0.035</td>\n",
       "      <td>-0.036</td>\n",
       "      <td>-0.062</td>\n",
       "      <td>-0.258</td>\n",
       "      <td>-0.133</td>\n",
       "      <td>-0.097</td>\n",
       "      <td>-0.070</td>\n",
       "      <td>0.069</td>\n",
       "      <td>0.014</td>\n",
       "      <td>-0.177</td>\n",
       "      <td>0.053</td>\n",
       "      <td>-0.006</td>\n",
       "      <td>-0.002</td>\n",
       "      <td>-0.005</td>\n",
       "      <td>-0.031</td>\n",
       "      <td>-0.07016666666666667</td>\n",
       "      <td>...</td>\n",
       "      <td>-0.041</td>\n",
       "      <td>-0.011</td>\n",
       "      <td>0.029</td>\n",
       "      <td>-0.04</td>\n",
       "      <td>-0.013</td>\n",
       "      <td>-0.009</td>\n",
       "      <td>0.023</td>\n",
       "      <td>-0.076</td>\n",
       "      <td>-0.038</td>\n",
       "      <td>-0.039</td>\n",
       "      <td>-0.022</td>\n",
       "      <td>0.033</td>\n",
       "      <td>-0.077</td>\n",
       "      <td>-0.087</td>\n",
       "      <td>-0.024</td>\n",
       "      <td>-0.021</td>\n",
       "      <td>-0.005</td>\n",
       "      <td>0.036</td>\n",
       "      <td>-0.027</td>\n",
       "      <td>0.019</td>\n",
       "      <td>0.048</td>\n",
       "      <td>0.04</td>\n",
       "      <td>0.051</td>\n",
       "      <td>0</td>\n",
       "      <td>0.015</td>\n",
       "      <td>-0.039</td>\n",
       "      <td>-0.025</td>\n",
       "      <td>-0.029</td>\n",
       "      <td>-0.016</td>\n",
       "      <td>0.019</td>\n",
       "      <td>0.01</td>\n",
       "      <td>0.025</td>\n",
       "      <td>0.025</td>\n",
       "      <td>0.021</td>\n",
       "      <td>-0.012</td>\n",
       "      <td>0.006</td>\n",
       "      <td>0.016</td>\n",
       "      <td>-0.018</td>\n",
       "      <td>inactive</td>\n",
       "      <td>NaN</td>\n",
       "    </tr>\n",
       "    <tr>\n",
       "      <th>3</th>\n",
       "      <td>-0.183</td>\n",
       "      <td>-0.051</td>\n",
       "      <td>-0.023</td>\n",
       "      <td>-0.077</td>\n",
       "      <td>-0.092</td>\n",
       "      <td>-0.015</td>\n",
       "      <td>0.071</td>\n",
       "      <td>0.027</td>\n",
       "      <td>0.020</td>\n",
       "      <td>-0.019</td>\n",
       "      <td>-0.044</td>\n",
       "      <td>-0.097</td>\n",
       "      <td>-0.052</td>\n",
       "      <td>-0.079</td>\n",
       "      <td>-0.175</td>\n",
       "      <td>-0.040</td>\n",
       "      <td>-0.084</td>\n",
       "      <td>-0.030</td>\n",
       "      <td>-0.047</td>\n",
       "      <td>-0.058</td>\n",
       "      <td>-0.067</td>\n",
       "      <td>-0.063</td>\n",
       "      <td>-0.148</td>\n",
       "      <td>-0.228</td>\n",
       "      <td>-1.008</td>\n",
       "      <td>-0.058</td>\n",
       "      <td>-0.094</td>\n",
       "      <td>-0.315</td>\n",
       "      <td>-0.204</td>\n",
       "      <td>-0.156</td>\n",
       "      <td>-0.122</td>\n",
       "      <td>0.081</td>\n",
       "      <td>0.007</td>\n",
       "      <td>-0.204</td>\n",
       "      <td>0.084</td>\n",
       "      <td>0.003</td>\n",
       "      <td>-0.000</td>\n",
       "      <td>-0.008</td>\n",
       "      <td>-0.028</td>\n",
       "      <td>-0.1135</td>\n",
       "      <td>...</td>\n",
       "      <td>-0.111</td>\n",
       "      <td>-0.035</td>\n",
       "      <td>0.056</td>\n",
       "      <td>-0.089</td>\n",
       "      <td>-0.026</td>\n",
       "      <td>-0.016</td>\n",
       "      <td>0.022</td>\n",
       "      <td>-0.124</td>\n",
       "      <td>-0.034</td>\n",
       "      <td>-0.035</td>\n",
       "      <td>-0.041</td>\n",
       "      <td>0.05</td>\n",
       "      <td>-0.078</td>\n",
       "      <td>-0.084</td>\n",
       "      <td>-0.031</td>\n",
       "      <td>-0.041</td>\n",
       "      <td>0.005</td>\n",
       "      <td>0.059</td>\n",
       "      <td>-0.044</td>\n",
       "      <td>0.04</td>\n",
       "      <td>0.07</td>\n",
       "      <td>0.054</td>\n",
       "      <td>0.088</td>\n",
       "      <td>-0.011</td>\n",
       "      <td>0.02</td>\n",
       "      <td>-0.058</td>\n",
       "      <td>-0.047</td>\n",
       "      <td>-0.057</td>\n",
       "      <td>-0.028</td>\n",
       "      <td>0.051</td>\n",
       "      <td>0.012</td>\n",
       "      <td>0.05</td>\n",
       "      <td>0.038</td>\n",
       "      <td>0.051</td>\n",
       "      <td>-0.015</td>\n",
       "      <td>0.017</td>\n",
       "      <td>0.027</td>\n",
       "      <td>-0.049</td>\n",
       "      <td>inactive</td>\n",
       "      <td>NaN</td>\n",
       "    </tr>\n",
       "    <tr>\n",
       "      <th>4</th>\n",
       "      <td>-0.154</td>\n",
       "      <td>0.005</td>\n",
       "      <td>-0.011</td>\n",
       "      <td>-0.013</td>\n",
       "      <td>-0.002</td>\n",
       "      <td>-0.115</td>\n",
       "      <td>0.005</td>\n",
       "      <td>0.002</td>\n",
       "      <td>-0.003</td>\n",
       "      <td>0.002</td>\n",
       "      <td>0.006</td>\n",
       "      <td>-0.002</td>\n",
       "      <td>-0.004</td>\n",
       "      <td>-0.009</td>\n",
       "      <td>-0.011</td>\n",
       "      <td>0.006</td>\n",
       "      <td>0.015</td>\n",
       "      <td>-0.008</td>\n",
       "      <td>-0.009</td>\n",
       "      <td>-0.004</td>\n",
       "      <td>-0.010</td>\n",
       "      <td>-0.011</td>\n",
       "      <td>-0.007</td>\n",
       "      <td>-0.016</td>\n",
       "      <td>0.005</td>\n",
       "      <td>-0.011</td>\n",
       "      <td>-0.022</td>\n",
       "      <td>-0.161</td>\n",
       "      <td>-0.058</td>\n",
       "      <td>-0.043</td>\n",
       "      <td>-0.030</td>\n",
       "      <td>0.041</td>\n",
       "      <td>0.008</td>\n",
       "      <td>-0.133</td>\n",
       "      <td>-0.000</td>\n",
       "      <td>-0.020</td>\n",
       "      <td>-0.012</td>\n",
       "      <td>-0.010</td>\n",
       "      <td>-0.029</td>\n",
       "      <td>3.333333333333382e-5</td>\n",
       "      <td>...</td>\n",
       "      <td>-0.054</td>\n",
       "      <td>-0.015</td>\n",
       "      <td>0.014</td>\n",
       "      <td>-0.035</td>\n",
       "      <td>-0.009</td>\n",
       "      <td>-0.015</td>\n",
       "      <td>-0.002</td>\n",
       "      <td>-0.035</td>\n",
       "      <td>-0.049</td>\n",
       "      <td>-0.065</td>\n",
       "      <td>-0.005</td>\n",
       "      <td>-0.012</td>\n",
       "      <td>-0.092</td>\n",
       "      <td>-0.079</td>\n",
       "      <td>-0.039</td>\n",
       "      <td>0.003</td>\n",
       "      <td>-0.004</td>\n",
       "      <td>0.009</td>\n",
       "      <td>0.004</td>\n",
       "      <td>-0.001</td>\n",
       "      <td>0.024</td>\n",
       "      <td>0.061</td>\n",
       "      <td>0.011</td>\n",
       "      <td>-0.031</td>\n",
       "      <td>0.073</td>\n",
       "      <td>0.034</td>\n",
       "      <td>0.017</td>\n",
       "      <td>0.037</td>\n",
       "      <td>0.027</td>\n",
       "      <td>-0.011</td>\n",
       "      <td>0.012</td>\n",
       "      <td>0.009</td>\n",
       "      <td>0.003</td>\n",
       "      <td>-0.001</td>\n",
       "      <td>0.002</td>\n",
       "      <td>-0.006</td>\n",
       "      <td>0.009</td>\n",
       "      <td>0.013</td>\n",
       "      <td>inactive</td>\n",
       "      <td>NaN</td>\n",
       "    </tr>\n",
       "  </tbody>\n",
       "</table>\n",
       "</div>"
      ],
      "text/plain": [
       "   -0.161  -0.014   0.002      ...      -0.007.28  inactive Unnamed: 5409\n",
       "0  -0.158  -0.002  -0.012      ...          0.005  inactive           NaN\n",
       "1       ?       ?       ?      ...              ?  inactive           NaN\n",
       "2  -0.169  -0.025  -0.010      ...         -0.018  inactive           NaN\n",
       "3  -0.183  -0.051  -0.023      ...         -0.049  inactive           NaN\n",
       "4  -0.154   0.005  -0.011      ...          0.013  inactive           NaN\n",
       "\n",
       "[5 rows x 5410 columns]"
      ]
     },
     "execution_count": 4,
     "metadata": {},
     "output_type": "execute_result"
    }
   ],
   "source": [
    "datr.head()"
   ]
  },
  {
   "cell_type": "markdown",
   "metadata": {},
   "source": [
    "## 4. Data Cleaning"
   ]
  },
  {
   "cell_type": "markdown",
   "metadata": {},
   "source": [
    "### 4.1 Work on the columns title, first row and last column\n",
    "It is clear that the first row of the data was used as columns titles and the last column is unneccessary (empty). So we:  \n",
    "\n",
    "**1.** take column title to row 1  \n",
    "**2.** convert it to numbers (because we discovered it is a string)  \n",
    "**3.** create a sequence of integers and used it as column title  \n",
    "**4.** remove the last column"
   ]
  },
  {
   "cell_type": "code",
   "execution_count": 5,
   "metadata": {},
   "outputs": [],
   "source": [
    "#Remove the column title of datr, make it row one, then make the column title integer values\n",
    "datrcolumn=pd.DataFrame(list(datr.columns)).T\n",
    "datr.columns = datrcolumn.columns\n",
    "datrefined=datrcolumn.append(datr, ignore_index = True)\n",
    "\n",
    "#Remove the last column of datrefined\n",
    "datrefined.drop(columns = list(datrefined.columns)[-1],inplace=True)"
   ]
  },
  {
   "cell_type": "markdown",
   "metadata": {},
   "source": [
    "### 4.2 Dealing with numbers with more than one decimal point"
   ]
  },
  {
   "cell_type": "markdown",
   "metadata": {},
   "source": [
    "Some values contain more than one decimal points. We removed the second decimal points with the digits that follows it. This makes the value consistent with other values."
   ]
  },
  {
   "cell_type": "code",
   "execution_count": 6,
   "metadata": {},
   "outputs": [],
   "source": [
    "#Remove the second decimal points with the digits that follows it\n",
    "for i in range(0,len(datrefined.iloc[0])):\n",
    "    datrefined[i]=datrefined[i].apply(lambda x: x[:list(mit.locate(x, lambda s: s == \".\"))[1]] if x.count('.') > 1 else x)"
   ]
  },
  {
   "cell_type": "markdown",
   "metadata": {},
   "source": [
    "### 4.3 Dealing with Missing values"
   ]
  },
  {
   "cell_type": "markdown",
   "metadata": {},
   "source": [
    "The handle missing numbers, we did the following:  \n",
    "1. Some columns contain <b>?</b>. We first converted them to **NaN**.\n",
    "2. There is posibility of columns containing other numeric values in form of strings, we try to change every elements in each column to numbers(numerical values that were entered as strings will convert) and if it's not possible (in case on non-numerical values) force then to be <b>NaN</b>, (except the last column).\n",
    "3. Drop all rows and columns with all elements <b>NaN</b> or whose rows contains <b>NaN</b> more than 90% of the column numbers"
   ]
  },
  {
   "cell_type": "code",
   "execution_count": 7,
   "metadata": {},
   "outputs": [
    {
     "name": "stdout",
     "output_type": "stream",
     "text": [
      "Total number of rows dropped is 179\n",
      "The total number of missing values is:  0\n"
     ]
    }
   ],
   "source": [
    "# Change string numerical values to numbers\n",
    "datrefined.iloc[:,:-1]=datrefined.iloc[:,:-1].apply(pd.to_numeric, errors='coerce')\n",
    "# Drop all rows NaN\n",
    "datrefined.dropna(axis=0, how='all', inplace=True)\n",
    "# Drop all columns NaN\n",
    "datrefined.dropna(axis=1, how='all', inplace=True)\n",
    "# Drop rows/ with over 90% of the column with NaN\n",
    "datrefined.dropna(axis=0, thresh=datrefined.shape[1]*90//100, inplace=True)\n",
    "# Print the total number of rows dropped.\n",
    "print('Total number of rows dropped is '+str(datr.shape[0]-datrefined.shape[0]))\n",
    "# Check if there are still missing missing data in the dataset\n",
    "missingSum = datrefined.isnull().sum().sum()\n",
    "print('The total number of missing values is: ',missingSum)"
   ]
  },
  {
   "cell_type": "markdown",
   "metadata": {},
   "source": [
    "### 4.4 Set index as numbers\n",
    "Give the rows integer numbering"
   ]
  },
  {
   "cell_type": "code",
   "execution_count": 8,
   "metadata": {},
   "outputs": [],
   "source": [
    "datrefined.index = list(range(0,datrefined.shape[0]))"
   ]
  },
  {
   "cell_type": "markdown",
   "metadata": {},
   "source": [
    "### 4.5 Encode the target variables\n",
    "We will use Label Encoder to label the categorical data. Computer performs faster with numbers than strings. Hence we change out target values to numbers 0 and 1 for inactive and active respectively."
   ]
  },
  {
   "cell_type": "code",
   "execution_count": 9,
   "metadata": {},
   "outputs": [],
   "source": [
    "#Encoding categorical data values\n",
    "labelencoder_y = LabelEncoder()\n",
    "datrefined[datrefined.columns[-1]] = labelencoder_y.fit_transform(datrefined[datrefined.columns[-1]])"
   ]
  },
  {
   "cell_type": "markdown",
   "metadata": {},
   "source": [
    "## 5. Split Dataset to Train and Test Sets\n",
    "Finally, we'll split the data into predictor variables and target variable, following by breaking them into train and test sets. We will use 20% of the data as test set."
   ]
  },
  {
   "cell_type": "code",
   "execution_count": 10,
   "metadata": {},
   "outputs": [],
   "source": [
    "datrefined.rename(columns={datrefined.columns[-1]:'target'}, inplace=True)\n",
    "y = datrefined['target'].values\n",
    "X = datrefined.drop('target', axis=1).values\n",
    "\n",
    "X_train, X_test, y_train, y_test = train_test_split (X, y, test_size = 0.20, random_state=21)"
   ]
  },
  {
   "cell_type": "markdown",
   "metadata": {},
   "source": [
    "## 6. Standardize the Data\n",
    "\n",
    "We use StandardScaler to help standardize the dataset’s features onto unit scale (mean = 0 and variance = 1) which is a requirement for the optimal performance of many machine learning algorithms. Also, data need to be standardized before employing Principal Components Analysis."
   ]
  },
  {
   "cell_type": "code",
   "execution_count": 11,
   "metadata": {},
   "outputs": [
    {
     "name": "stderr",
     "output_type": "stream",
     "text": [
      "/opt/conda/lib/python3.6/site-packages/sklearn/utils/validation.py:595: DataConversionWarning: Data with input dtype object was converted to float64 by StandardScaler.\n",
      "  warnings.warn(msg, DataConversionWarning)\n",
      "/opt/conda/lib/python3.6/site-packages/sklearn/utils/validation.py:595: DataConversionWarning: Data with input dtype object was converted to float64 by StandardScaler.\n",
      "  warnings.warn(msg, DataConversionWarning)\n",
      "/opt/conda/lib/python3.6/site-packages/sklearn/utils/validation.py:595: DataConversionWarning: Data with input dtype object was converted to float64 by StandardScaler.\n",
      "  warnings.warn(msg, DataConversionWarning)\n",
      "/opt/conda/lib/python3.6/site-packages/sklearn/utils/validation.py:595: DataConversionWarning: Data with input dtype object was converted to float64 by StandardScaler.\n",
      "  warnings.warn(msg, DataConversionWarning)\n",
      "/opt/conda/lib/python3.6/site-packages/sklearn/utils/validation.py:595: DataConversionWarning: Data with input dtype object was converted to float64 by StandardScaler.\n",
      "  warnings.warn(msg, DataConversionWarning)\n",
      "/opt/conda/lib/python3.6/site-packages/sklearn/utils/validation.py:595: DataConversionWarning: Data with input dtype object was converted to float64 by StandardScaler.\n",
      "  warnings.warn(msg, DataConversionWarning)\n"
     ]
    }
   ],
   "source": [
    "# Standardizing the features\n",
    "X = ssc().fit_transform(X)\n",
    "X_train = ssc().fit_transform(X_train)\n",
    "X_test = ssc().fit_transform(X_test)"
   ]
  },
  {
   "cell_type": "markdown",
   "metadata": {},
   "source": [
    "## 7. Visualize the Data by PCA Projection to 2D\n",
    "\n",
    "Since the data has much features(5409 columns), to be able to visualize it, we apply PCA to reduce the dimension. In this section, the code projects the original data which is 5409 dimensional into 2 dimensions. It should note that after dimensionality reduction, there usually isn’t a particular meaning assigned to each principal component. The new components are just the two main dimensions of variation.\n"
   ]
  },
  {
   "cell_type": "markdown",
   "metadata": {},
   "source": [
    "### 7.1 Project to 2 Dimensions"
   ]
  },
  {
   "cell_type": "code",
   "execution_count": 12,
   "metadata": {},
   "outputs": [],
   "source": [
    "pcaPlot = PCA(n_components=2)\n",
    "pcaPlot.fit(X)\n",
    "principalComponents = pcaPlot.transform(X)\n",
    "principalDf = pd.DataFrame(data = principalComponents\n",
    "             , columns = ['principal component 1', 'principal component 2'])"
   ]
  },
  {
   "cell_type": "markdown",
   "metadata": {},
   "source": [
    "### 7.2 Concatenate the Principal compoments and y, then rename y to <b>target</b>. Call it pcaForPloting."
   ]
  },
  {
   "cell_type": "code",
   "execution_count": 13,
   "metadata": {},
   "outputs": [],
   "source": [
    "pcaForPloting = pd.concat([principalDf, datrefined['target']], axis = 1, join='inner')\n",
    "pcaForPloting.rename(columns={datrefined.columns[-1]:'target'}, inplace=True)"
   ]
  },
  {
   "cell_type": "markdown",
   "metadata": {},
   "source": [
    "### 7.3 Print the head"
   ]
  },
  {
   "cell_type": "code",
   "execution_count": 14,
   "metadata": {},
   "outputs": [
    {
     "data": {
      "text/html": [
       "<div>\n",
       "<style scoped>\n",
       "    .dataframe tbody tr th:only-of-type {\n",
       "        vertical-align: middle;\n",
       "    }\n",
       "\n",
       "    .dataframe tbody tr th {\n",
       "        vertical-align: top;\n",
       "    }\n",
       "\n",
       "    .dataframe thead th {\n",
       "        text-align: right;\n",
       "    }\n",
       "</style>\n",
       "<table border=\"1\" class=\"dataframe\">\n",
       "  <thead>\n",
       "    <tr style=\"text-align: right;\">\n",
       "      <th></th>\n",
       "      <th>principal component 1</th>\n",
       "      <th>principal component 2</th>\n",
       "      <th>target</th>\n",
       "    </tr>\n",
       "  </thead>\n",
       "  <tbody>\n",
       "    <tr>\n",
       "      <th>0</th>\n",
       "      <td>12.791937</td>\n",
       "      <td>14.874703</td>\n",
       "      <td>1</td>\n",
       "    </tr>\n",
       "    <tr>\n",
       "      <th>1</th>\n",
       "      <td>-4.252133</td>\n",
       "      <td>21.160289</td>\n",
       "      <td>1</td>\n",
       "    </tr>\n",
       "    <tr>\n",
       "      <th>2</th>\n",
       "      <td>8.276538</td>\n",
       "      <td>-15.280916</td>\n",
       "      <td>1</td>\n",
       "    </tr>\n",
       "    <tr>\n",
       "      <th>3</th>\n",
       "      <td>31.695948</td>\n",
       "      <td>-11.076907</td>\n",
       "      <td>1</td>\n",
       "    </tr>\n",
       "    <tr>\n",
       "      <th>4</th>\n",
       "      <td>-16.358272</td>\n",
       "      <td>-28.868594</td>\n",
       "      <td>1</td>\n",
       "    </tr>\n",
       "  </tbody>\n",
       "</table>\n",
       "</div>"
      ],
      "text/plain": [
       "   principal component 1  principal component 2  target\n",
       "0              12.791937              14.874703       1\n",
       "1              -4.252133              21.160289       1\n",
       "2               8.276538             -15.280916       1\n",
       "3              31.695948             -11.076907       1\n",
       "4             -16.358272             -28.868594       1"
      ]
     },
     "execution_count": 14,
     "metadata": {},
     "output_type": "execute_result"
    }
   ],
   "source": [
    "pcaForPloting.head()"
   ]
  },
  {
   "cell_type": "markdown",
   "metadata": {},
   "source": [
    "### 7.4 Make the plot"
   ]
  },
  {
   "cell_type": "code",
   "execution_count": 15,
   "metadata": {},
   "outputs": [
    {
     "data": {
      "image/png": "[encoded data removed]",
      "text/plain": [
       "<Figure size 576x576 with 1 Axes>"
      ]
     },
     "metadata": {},
     "output_type": "display_data"
    }
   ],
   "source": [
    "fig = plt.figure(figsize = (8,8))\n",
    "ax = fig.add_subplot(1,1,1) \n",
    "ax.set_xlabel('Principal Component 1', fontsize = 15)\n",
    "ax.set_ylabel('Principal Component 2', fontsize = 15)\n",
    "ax.set_title('2 component PCA', fontsize = 20)\n",
    "targetss = ['inactive', 'active']\n",
    "targets = [1, 0]\n",
    "colors = ['r', 'g']\n",
    "for target, color in zip(targets,colors):\n",
    "    indicesToKeep = pcaForPloting['target'] == target\n",
    "    ax.scatter(pcaForPloting.loc[indicesToKeep, 'principal component 1']\n",
    "               , pcaForPloting.loc[indicesToKeep, 'principal component 2']\n",
    "               , c = color\n",
    "               , s = 50)\n",
    "ax.legend(targetss)\n",
    "ax.grid()"
   ]
  },
  {
   "cell_type": "markdown",
   "metadata": {},
   "source": [
    "## 8. Dimensional Reduction\n",
    "We Project the data with PCA to retain 90% of Variance"
   ]
  },
  {
   "cell_type": "code",
   "execution_count": 16,
   "metadata": {},
   "outputs": [
    {
     "data": {
      "image/png": "[encoded data removed]",
      "text/plain": [
       "<Figure size 432x288 with 1 Axes>"
      ]
     },
     "metadata": {},
     "output_type": "display_data"
    },
    {
     "name": "stdout",
     "output_type": "stream",
     "text": [
      "Selecting 534 X_train components we can preserve 0.9 of the total variance of the data.\n",
      "Selecting 534 X_test components we can preserve 0.9 of the total variance of the data.\n"
     ]
    }
   ],
   "source": [
    "#Fitting the PCA algorithm with our Data\n",
    "pcaModel = PCA().fit(X)\n",
    "\n",
    "#Plotting the Cumulative Summation of the Explained Variance\n",
    "plt.figure()\n",
    "plt.plot(np.cumsum(pcaModel.explained_variance_ratio_))\n",
    "plt.xlabel('Number of Components')\n",
    "plt.ylabel('Variance (%)') #for each component\n",
    "plt.title('Dataset Explained Variance for Training Data')\n",
    "plt.show()\n",
    "\n",
    "#Reducing the data dimension to retain .90 variance\n",
    "varianceToPreserve = 0.90\n",
    "\n",
    "pca = PCA(varianceToPreserve)\n",
    "pca.fit(X_train)\n",
    "X_train = pca.transform(X_train)\n",
    "X_test = pca.transform(X_test)\n",
    "\n",
    "print('Selecting '+str(X_train.shape[1])+' X_train components we can preserve '+str(varianceToPreserve)+' of the total variance of the data.')\n",
    "print('Selecting '+str(X_test.shape[1])+' X_test components we can preserve '+str(varianceToPreserve)+' of the total variance of the data.')"
   ]
  },
  {
   "cell_type": "markdown",
   "metadata": {},
   "source": [
    "## 9. Building the Models\n",
    "From the dataset, we will build a model to predict if mutant p53 transcriptional is **active** or **inactive**. This is a binary classification problem, and a few algorithms are appropriate for use. Since we do not know which one will perform the best at this time, we will do a quick test on the few appropriate algorithms with default setting to get an early indication of how each of them perform. We will use **10** fold cross validation for each testing.\n",
    "\n",
    "The following non-linear algorithms will be used, namely:\n",
    "1. Classification and Regression Trees (CART)\n",
    "2. Linear Support Vector Machines (SVM)\n",
    "3. Gaussian Naive Bayes (NB) and \n",
    "4. k-Nearest Neighbors (KNN)."
   ]
  },
  {
   "cell_type": "code",
   "execution_count": 17,
   "metadata": {},
   "outputs": [],
   "source": [
    "# Building a list of models to use\n",
    "models_list = []\n",
    "models_list.append(('CART', DecisionTreeClassifier()))\n",
    "models_list.append(('SVM', SVC())) \n",
    "models_list.append(('NB', GaussianNB()))\n",
    "models_list.append(('KNN', KNeighborsClassifier()))"
   ]
  },
  {
   "cell_type": "code",
   "execution_count": 18,
   "metadata": {},
   "outputs": [
    {
     "name": "stdout",
     "output_type": "stream",
     "text": [
      "CART: 0.985685 (0.002339) (run time: 47.727902)\n"
     ]
    },
    {
     "name": "stderr",
     "output_type": "stream",
     "text": [
      "/opt/conda/lib/python3.6/site-packages/sklearn/svm/base.py:196: FutureWarning: The default value of gamma will change from 'auto' to 'scale' in version 0.22 to account better for unscaled features. Set gamma explicitly to 'auto' or 'scale' to avoid this warning.\n",
      "  \"avoid this warning.\", FutureWarning)\n",
      "/opt/conda/lib/python3.6/site-packages/sklearn/svm/base.py:196: FutureWarning: The default value of gamma will change from 'auto' to 'scale' in version 0.22 to account better for unscaled features. Set gamma explicitly to 'auto' or 'scale' to avoid this warning.\n",
      "  \"avoid this warning.\", FutureWarning)\n",
      "/opt/conda/lib/python3.6/site-packages/sklearn/svm/base.py:196: FutureWarning: The default value of gamma will change from 'auto' to 'scale' in version 0.22 to account better for unscaled features. Set gamma explicitly to 'auto' or 'scale' to avoid this warning.\n",
      "  \"avoid this warning.\", FutureWarning)\n",
      "/opt/conda/lib/python3.6/site-packages/sklearn/svm/base.py:196: FutureWarning: The default value of gamma will change from 'auto' to 'scale' in version 0.22 to account better for unscaled features. Set gamma explicitly to 'auto' or 'scale' to avoid this warning.\n",
      "  \"avoid this warning.\", FutureWarning)\n"
     ]
    },
    {
     "name": "stdout",
     "output_type": "stream",
     "text": [
      "SVM: 0.991487 (0.000913) (run time: 565.636271)\n",
      "NB: 0.747456 (0.078423) (run time: 0.531086)\n",
      "KNN: 0.992014 (0.000657) (run time: 176.773150)\n"
     ]
    }
   ],
   "source": [
    "# Building the Models\n",
    "num_folds = 4\n",
    "results = []\n",
    "names = []\n",
    "\n",
    "for name, model in models_list:\n",
    "    kfold = KFold(n_splits=num_folds, random_state=123)\n",
    "    start = time.time()\n",
    "    cv_results = cross_val_score(model, X_train, y_train, cv=kfold, scoring='accuracy')\n",
    "    end = time.time()\n",
    "    results.append(cv_results)\n",
    "    names.append(name)\n",
    "    print( \"%s: %f (%f) (run time: %f)\" % (name, cv_results.mean(), cv_results.std(), end-start))"
   ]
  },
  {
   "cell_type": "code",
   "execution_count": 19,
   "metadata": {},
   "outputs": [
    {
     "data": {
      "image/png": "[encoded data removed]",
      "text/plain": [
       "<Figure size 432x288 with 1 Axes>"
      ]
     },
     "metadata": {},
     "output_type": "display_data"
    }
   ],
   "source": [
    "# Making Performance plots\n",
    "fig = plt.figure()\n",
    "fig.suptitle('Performance Comparison')\n",
    "ax = fig.add_subplot(111)\n",
    "plt.boxplot(results)\n",
    "ax.set_xticklabels(names)\n",
    "plt.show()"
   ]
  },
  {
   "cell_type": "markdown",
   "metadata": {},
   "source": [
    "The yellow line in the boxplots indicate the mean of the performance on training set of the folds used for each model. We discover that **KNN** performed best followed by **CART** and the least is Nearest neighbour(**KN**). This is not good enough to determine the best model to choose as we shall in the next analysis."
   ]
  },
  {
   "cell_type": "markdown",
   "metadata": {},
   "source": [
    "## 10. Check Accuracy on the Test Set\n",
    "Let's fit the models to the dataset and see how it performs given the test data."
   ]
  },
  {
   "cell_type": "code",
   "execution_count": 20,
   "metadata": {},
   "outputs": [
    {
     "name": "stdout",
     "output_type": "stream",
     "text": [
      "Run Time for CART is : 20.287241\n"
     ]
    },
    {
     "name": "stderr",
     "output_type": "stream",
     "text": [
      "/opt/conda/lib/python3.6/site-packages/sklearn/svm/base.py:196: FutureWarning: The default value of gamma will change from 'auto' to 'scale' in version 0.22 to account better for unscaled features. Set gamma explicitly to 'auto' or 'scale' to avoid this warning.\n",
      "  \"avoid this warning.\", FutureWarning)\n"
     ]
    },
    {
     "name": "stdout",
     "output_type": "stream",
     "text": [
      "Run Time for SVM is : 249.293992\n",
      "Run Time for NB is : 0.145929\n",
      "Run Time for KNN is : 0.532061\n"
     ]
    }
   ],
   "source": [
    "# prepare the model\n",
    "predictions = []\n",
    "for name, model in models_list:\n",
    "    start = time.time()\n",
    "    model.fit(X_train, y_train)\n",
    "    end = time.time()\n",
    "    print( \"Run Time for %s is : %f\" % (name, end-start))\n",
    "    \n",
    "    # estimate accuracy on test dataset\n",
    "    pred = model.predict(X_test)\n",
    "    predictions.append((name, pred))\n"
   ]
  },
  {
   "cell_type": "code",
   "execution_count": 21,
   "metadata": {},
   "outputs": [
    {
     "name": "stdout",
     "output_type": "stream",
     "text": [
      "Results for CART :::\n",
      "  Accuracy score 0.986743\n",
      "              precision    recall  f1-score   support\n",
      "\n",
      "           0       0.28      0.36      0.31        28\n",
      "           1       0.99      0.99      0.99      3291\n",
      "\n",
      "   micro avg       0.99      0.99      0.99      3319\n",
      "   macro avg       0.64      0.67      0.65      3319\n",
      "weighted avg       0.99      0.99      0.99      3319\n",
      "\n",
      "             Predicted Inactive  Predicted Active\n",
      "Is Inactive                3265                26\n",
      "Is Active                    18                10\n",
      "     \n",
      "     \n",
      "     \n",
      "Results for SVM :::\n",
      "  Accuracy score 0.991262\n",
      "              precision    recall  f1-score   support\n",
      "\n",
      "           0       0.00      0.00      0.00        28\n",
      "           1       0.99      1.00      1.00      3291\n",
      "\n",
      "   micro avg       0.99      0.99      0.99      3319\n",
      "   macro avg       0.50      0.50      0.50      3319\n",
      "weighted avg       0.98      0.99      0.99      3319\n",
      "\n",
      "             Predicted Inactive  Predicted Active\n",
      "Is Inactive                3290                 1\n",
      "Is Active                    28                 0\n",
      "     \n",
      "     \n",
      "     \n",
      "Results for NB :::\n",
      "  Accuracy score 0.742694\n",
      "              precision    recall  f1-score   support\n",
      "\n",
      "           0       0.03      0.79      0.05        28\n",
      "           1       1.00      0.74      0.85      3291\n",
      "\n",
      "   micro avg       0.74      0.74      0.74      3319\n",
      "   macro avg       0.51      0.76      0.45      3319\n",
      "weighted avg       0.99      0.74      0.84      3319\n",
      "\n",
      "             Predicted Inactive  Predicted Active\n",
      "Is Inactive                2443               848\n",
      "Is Active                     6                22\n",
      "     \n",
      "     \n",
      "     \n",
      "Results for KNN :::\n",
      "  Accuracy score 0.991564\n",
      "              precision    recall  f1-score   support\n",
      "\n",
      "           0       0.50      0.21      0.30        28\n",
      "           1       0.99      1.00      1.00      3291\n",
      "\n",
      "   micro avg       0.99      0.99      0.99      3319\n",
      "   macro avg       0.75      0.61      0.65      3319\n",
      "weighted avg       0.99      0.99      0.99      3319\n",
      "\n",
      "             Predicted Inactive  Predicted Active\n",
      "Is Inactive                3285                 6\n",
      "Is Active                    22                 6\n",
      "     \n",
      "     \n",
      "     \n"
     ]
    }
   ],
   "source": [
    "for name, pred in predictions:\n",
    "    print('Results for '+name+' :::')\n",
    "    print(\"  Accuracy score %f\" % accuracy_score(y_test, pred))\n",
    "    print(classification_report(y_test, pred))\n",
    "    cm = np.array(confusion_matrix(y_test, pred, labels=[1,0]))\n",
    "    confusion = pd.DataFrame(cm, index=['Is Inactive','Is Active'],\n",
    "                             columns=['Predicted Inactive','Predicted Active'])\n",
    "    #sns.heatmap(confusion, annot=True)\n",
    "    #confusion.plot_confusion_matrix(title='Confusion matrix')\n",
    "    print(confusion)\n",
    "    print('     ')\n",
    "    print('     ')\n",
    "    print('     ')"
   ]
  },
  {
   "cell_type": "markdown",
   "metadata": {},
   "source": [
    "## 11. Result Analysis\n"
   ]
  },
  {
   "cell_type": "markdown",
   "metadata": {},
   "source": [
    "The performance on the test set reviews the following:\n",
    "1. **CART** has Accuracy score of 0.986140. Correctly classified 3264 of **inactive** while misclassifying 27 as **active**. Correctly classified 9 of **active** while misclassifying 19 as **inactive**\n",
    "2. **SVM****** has Accuracy score of 0.991262. Correctly classified 3290 of **inactive** while misclassifying 1 as **active**. Correctly classified 0 of **active** while misclassifying 28 as **inactive**\n",
    "3. **NB** has Accuracy score of 0.742694. Correctly classified 2443 of **inactive** while misclassifying 848 as **active**. Correctly classified 22 of **active** while misclassifying 6 as **inactive** \n",
    "4. **KNN** has Accuracy score of 0.991564. Correctly classified 3285 of **inactive** while misclassifying 6 as **active**. Correctly classified 6 of **active** while misclassifying 22 as **inactive**\n",
    "\n",
    "From the above results, one can decide:\n",
    "* to choose NB as the best model given its ability to classify both the target values. This seems more balance.\n",
    "* to chose KNN or SVM if he doesn't care about the above the reasoning.\n",
    "* it is neccessary to consider the effect of the decision on the patient. Imagine telling a cancer patients he doesn't have cancer based on your model. He may eventually die without getting treatment. If on the other hand you tell a patient who actually doesn't have the cancer that he does, what could be the result of this information on?\n",
    "* One needs to carefully consider these factors before making a final decision of the model to adopt."
   ]
  },
  {
   "cell_type": "markdown",
   "metadata": {},
   "source": [
    "## 12. Conclusion"
   ]
  },
  {
   "cell_type": "markdown",
   "metadata": {},
   "source": [
    "This dataset greatly impacted on the results. There are far more data for inactive than there are for active therefore making the models to do better on inactive. This clearly shows that he with more data wins.  \n",
    "\n",
    "To improve the results, there should be more collection of data of active target values. This will help to improve the performance on active sets."
   ]
  }
 ],
 "metadata": {
  "kernelspec": {
   "display_name": "Python 3",
   "language": "python",
   "name": "python3"
  },
  "language_info": {
   "codemirror_mode": {
    "name": "ipython",
    "version": 3
   },
   "file_extension": ".py",
   "mimetype": "text/x-python",
   "name": "python",
   "nbconvert_exporter": "python",
   "pygments_lexer": "ipython3",
   "version": "3.7.3"
  }
 },
 "nbformat": 4,
 "nbformat_minor": 1
}
